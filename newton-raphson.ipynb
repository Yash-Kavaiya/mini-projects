{
 "cells": [
  {
   "cell_type": "markdown",
   "metadata": {},
   "source": [
    "# newton-raphson\n",
    "\n",
    "Use the \"Run\" button to execute the code."
   ]
  },
  {
   "cell_type": "markdown",
   "metadata": {},
   "source": [
    "The Newton-Raphson method is an iterative numerical technique for finding the approximate roots (or solutions) of a real-valued function. It is often used to find the roots of nonlinear equations. The formula for the Newton-Raphson method is as follows:\n",
    "\n",
    "Given a function f(x) and an initial guess $x_0$ for a root of the equation f(x) = 0, the formula for the Newton-Raphson method is:\n",
    "\n",
    "$[ x_{n+1} = x_n - \\frac{f(x_n)}{f'(x_n)} ]$\n",
    "\n",
    "Where:\n",
    "- $( x_{n+1} )$ is the next approximation of the root.\n",
    "- $( x_n )$ is the current approximation of the root.\n",
    "- $( f(x_n) )$ is the value of the function at the current approximation.\n",
    "- $( f'(x_n) ) $is the derivative (slope) of the function at the current approximation.\n",
    "\n",
    "Here's a Python code implementation of the Newton-Raphson method:\n",
    "\n",
    "\n",
    "In this code, `f` is the function for which we want to find the root, and `df` is its derivative. `x0` is the initial guess for the root, `tol` is the tolerance (how close we want to get to the root), and `max_iter` is the maximum number of iterations. The function `newton_raphson` iteratively updates the approximation of the root until it either finds a root within the specified tolerance or reaches the maximum number of iterations."
   ]
  },
  {
   "cell_type": "code",
   "execution_count": 7,
   "metadata": {},
   "outputs": [
    {
     "name": "stdout",
     "output_type": "stream",
     "text": [
      "Approximate root: 2.0000000000214886\n"
     ]
    }
   ],
   "source": [
    "def newton_raphson(f, df, x0, tol, max_iter):\n",
    "    \"\"\"\n",
    "    Newton-Raphson method for finding the root of a function.\n",
    "\n",
    "    :param f: The function for which we want to find the root (f(x) = 0).\n",
    "    :param df: The derivative of the function f.\n",
    "    :param x0: Initial guess for the root.\n",
    "    :param tol: Tolerance (stop when |f(x)| < tol).\n",
    "    :param max_iter: Maximum number of iterations.\n",
    "    :return: Approximation of the root, or None if the method does not converge.\n",
    "    \"\"\"\n",
    "    x = x0\n",
    "    for i in range(max_iter):\n",
    "        fx = f(x)\n",
    "        if abs(fx) < tol:\n",
    "            return x  # Found a root within tolerance.\n",
    "        dfx = df(x)\n",
    "        if dfx == 0:\n",
    "            return None  # The derivative is zero; the method may not converge.\n",
    "        x = x - fx / dfx\n",
    "    return None  # Method did not converge within the maximum number of iterations.\n",
    "\n",
    "# Example usage:\n",
    "# Define your function and its derivative here.\n",
    "def f(x):\n",
    "    return x**2 - 4\n",
    "\n",
    "def df(x):\n",
    "    return 2*x\n",
    "\n",
    "initial_guess = 9.999990\n",
    "tolerance = 1e-6\n",
    "max_iterations = 1000\n",
    "\n",
    "root = newton_raphson(f, df, initial_guess, tolerance, max_iterations)\n",
    "if root is not None:\n",
    "    print(\"Approximate root:\", root)\n",
    "else:\n",
    "    print(\"Newton-Raphson method did not converge.\")"
   ]
  },
  {
   "cell_type": "code",
   "execution_count": 8,
   "metadata": {},
   "outputs": [
    {
     "data": {
      "image/png": "[encoded data removed]",
      "text/plain": [
       "<Figure size 720x360 with 1 Axes>"
      ]
     },
     "metadata": {
      "needs_background": "light"
     },
     "output_type": "display_data"
    },
    {
     "name": "stdout",
     "output_type": "stream",
     "text": [
      "Approximate root: 2.0000000000214886\n"
     ]
    }
   ],
   "source": [
    "import numpy as np\n",
    "import matplotlib.pyplot as plt\n",
    "\n",
    "x_values = []  # Store the x values at each iteration.\n",
    "root = initial_guess\n",
    "\n",
    "for i in range(max_iterations):\n",
    "    x_values.append(root)\n",
    "    fx = f(root)\n",
    "    dfx = df(root)\n",
    "    if abs(fx) < tolerance:\n",
    "        break\n",
    "    root = root - fx / dfx\n",
    "\n",
    "# Plot the convergence\n",
    "x_values = np.array(x_values)\n",
    "iterations = np.arange(len(x_values))\n",
    "\n",
    "plt.figure(figsize=(10, 5))\n",
    "plt.plot(iterations, x_values, marker='o', linestyle='-')\n",
    "plt.xlabel(\"Iterations\")\n",
    "plt.ylabel(\"Approximate Root (x)\")\n",
    "plt.title(\"Newton-Raphson Method Convergence\")\n",
    "plt.grid(True)\n",
    "plt.show()\n",
    "\n",
    "if abs(fx) < tolerance:\n",
    "    print(\"Approximate root:\", root)\n",
    "else:\n",
    "    print(\"Newton-Raphson method did not converge.\")\n"
   ]
  },
  {
   "cell_type": "markdown",
   "metadata": {},
   "source": [
    "This code will plot the convergence of the Newton-Raphson method, showing how the approximation of the root changes with each iteration. It stops plotting when the root is found within the specified tolerance or when it reaches the maximum number of iterations"
   ]
  },
  {
   "cell_type": "code",
   "execution_count": null,
   "metadata": {},
   "outputs": [],
   "source": []
  }
 ],
 "metadata": {
  "kernelspec": {
   "display_name": "Python 3 (ipykernel)",
   "language": "python",
   "name": "python3"
  },
  "language_info": {
   "codemirror_mode": {
    "name": "ipython",
    "version": 3
   },
   "file_extension": ".py",
   "mimetype": "text/x-python",
   "name": "python",
   "nbconvert_exporter": "python",
   "pygments_lexer": "ipython3",
   "version": "3.9.7"
  }
 },
 "nbformat": 4,
 "nbformat_minor": 2
}
